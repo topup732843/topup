{
 "cells": [
  {
   "cell_type": "code",
   "execution_count": 1,
   "id": "8e176fe7",
   "metadata": {},
   "outputs": [],
   "source": [
    "import pandas as pd\n",
    "import numpy as np"
   ]
  },
  {
   "cell_type": "code",
   "execution_count": null,
   "id": "82753bd1",
   "metadata": {},
   "outputs": [],
   "source": [
    "data = pd.read_csv(\"C://users/siva/sport.csv\")\n",
    "print(data,\"n\")\n"
   ]
  },
  {
   "cell_type": "code",
   "execution_count": null,
   "id": "a5bbe884",
   "metadata": {},
   "outputs": [],
   "source": [
    "d = np.array(data)[:,:-1]\n",
    "print(\"n The attributes are: \",d)\n"
   ]
  },
  {
   "cell_type": "code",
   "execution_count": null,
   "id": "a4b5f15d",
   "metadata": {},
   "outputs": [],
   "source": [
    "target = np.array(data)[:,-1]\n",
    "print(\"n The target is: \",target)\n"
   ]
  },
  {
   "cell_type": "code",
   "execution_count": null,
   "id": "6ff043ad",
   "metadata": {},
   "outputs": [],
   "source": [
    "def train(c,t):\n",
    "    for i, val in enumerate(t):\n",
    "        if val == \"Yes\":\n",
    "specific_hypothesis = c[i].copy()\n",
    "            break\n",
    "\n",
    "    for i, val in enumerate(c):\n",
    "        if t[i] == \"Yes\":\n",
    "    for x in range(len(specific_hypothesis)):\n",
    "        if val[x] != specific_hypothesis[x]:\n",
    "    specific_hypothesis[x] = '?'\n",
    "        else:\n",
    "        pass\n",
    "    return specific_hypothesis"
   ]
  },
  {
   "cell_type": "code",
   "execution_count": null,
   "id": "b67c9609",
   "metadata": {},
   "outputs": [],
   "source": [
    "print(\"n The final hypothesis is:\",train(d,target))"
   ]
  }
 ],
 "metadata": {
  "kernelspec": {
   "display_name": "Python 3 (ipykernel)",
   "language": "python",
   "name": "python3"
  },
  "language_info": {
   "codemirror_mode": {
    "name": "ipython",
    "version": 3
   },
   "file_extension": ".py",
   "mimetype": "text/x-python",
   "name": "python",
   "nbconvert_exporter": "python",
   "pygments_lexer": "ipython3",
   "version": "3.9.13"
  }
 },
 "nbformat": 4,
 "nbformat_minor": 5
}
